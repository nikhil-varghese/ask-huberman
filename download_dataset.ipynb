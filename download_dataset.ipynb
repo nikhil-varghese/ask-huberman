{
 "cells": [
  {
   "cell_type": "code",
   "execution_count": 9,
   "metadata": {},
   "outputs": [],
   "source": [
    "from pytube import Playlist, YouTube\n",
    "from youtube_transcript_api import YouTubeTranscriptApi"
   ]
  },
  {
   "cell_type": "code",
   "execution_count": 2,
   "metadata": {},
   "outputs": [],
   "source": [
    "p = Playlist('https://www.youtube.com/playlist?list=PLPNW_gerXa4Pc8S2qoUQc5e8Ir97RLuVW')"
   ]
  },
  {
   "cell_type": "code",
   "execution_count": 3,
   "metadata": {},
   "outputs": [],
   "source": [
    "video_ids = []\n",
    "for url in p.video_urls:\n",
    "    video_ids.append(url.split(\"v=\")[1])\n",
    "# video_ids"
   ]
  },
  {
   "cell_type": "code",
   "execution_count": 4,
   "metadata": {},
   "outputs": [],
   "source": [
    "video_titles = []\n",
    "for video in p.videos:\n",
    "    video_titles.append(video.title)\n",
    "# video_titles"
   ]
  },
  {
   "cell_type": "code",
   "execution_count": 5,
   "metadata": {},
   "outputs": [],
   "source": [
    "videos = {}\n",
    "n = len(video_titles)\n",
    "for i in range(n):\n",
    "    videos[video_titles[i]] = video_ids[i]\n",
    "# videos\n"
   ]
  },
  {
   "cell_type": "code",
   "execution_count": 6,
   "metadata": {},
   "outputs": [
    {
     "name": "stdout",
     "output_type": "stream",
     "text": [
      "Transcript not found\n",
      "Transcript not found\n",
      "Transcript not found\n",
      "Transcript not found\n",
      "Transcript not found\n",
      "Transcript not found\n",
      "Transcript not found\n",
      "Transcript not found\n",
      "Transcript not found\n",
      "Transcript not found\n",
      "Transcript not found\n",
      "Transcript not found\n",
      "Transcript not found\n",
      "Transcript not found\n",
      "Transcript not found\n",
      "Transcript not found\n",
      "Transcript not found\n",
      "Transcript not found\n",
      "Transcript not found\n"
     ]
    },
    {
     "data": {
      "text/plain": [
       "{'AMA #15: Fluoride Benefits/Risks & Vagus Nerve Stimulation': 'j2sMqSDLd4k',\n",
       " 'Tim Ferriss: How to Learn Better & Create Your Best Future | Huberman Lab Podcast': 'doupx8SAs5Y',\n",
       " 'Dr. Peter Attia: Improve Vitality, Emotional & Physical Health & Lifespan | Huberman Lab Podcast': 'ufsIA5NARIo',\n",
       " 'Using Cortisol & Adrenaline to Boost Our Energy & Immune System Function': 'JPX8g8ibKFc',\n",
       " 'How to Control Your Metabolism by Thyroid & Growth Hormone': 'x7qbJeRxWGw',\n",
       " 'How Our Hormones Control Our Hunger, Eating & Satiety': '17O5mgXZ9ZU',\n",
       " 'The Science of How to Optimize Testosterone & Estrogen': 'qJXKhu5UZwk',\n",
       " 'Biological Influences On Sex, Sex Differences & Preferences': 'J7SrAEacyf8',\n",
       " 'The Science of Emotions & Relationships': 'hcuMLQVAgEg',\n",
       " 'How to Increase Motivation & Drive': 'vA50EK70whE',\n",
       " 'How Foods and Nutrients Control Our Moods': 'XfURDjegrAw',\n",
       " 'Control Pain & Heal Faster with Your Brain': 'mcPSRWUYCv0',\n",
       " 'Optimize Your Learning & Creativity With Science-Based Tools': 'uuP-1ioh4LY',\n",
       " 'Using Failures, Movement & Balance to Learn Faster': 'hx3U64IXFOY',\n",
       " 'How to Focus to Change Your Brain': 'LG53Vxum0as',\n",
       " 'Understanding and Using Dreams to Learn and to Forget': 'FFwA0QFmpQ4',\n",
       " 'How to Defeat Jetlag, Shift Work & Sleeplessness': 'NAATB55oxeQ',\n",
       " 'How Your Nervous System Works & Changes': 'H-XfCl-HpRM',\n",
       " 'Welcome to the Huberman Lab Podcast': '4b6bwcWK6GE'}"
      ]
     },
     "execution_count": 6,
     "metadata": {},
     "output_type": "execute_result"
    }
   ],
   "source": [
    "no_transcripts = {}\n",
    "\n",
    "for i in videos.items():\n",
    "    try:\n",
    "\n",
    "        transcript_list = YouTubeTranscriptApi.get_transcript(i[1])\n",
    "        # print(\"Transcript found\")\n",
    "        full_transcript = \" \".join([item['text'] for item in transcript_list])\n",
    "        with open(f\"./data/{i[0]}.txt\", 'w') as file:\n",
    "            file.write(full_transcript)\n",
    "            file.close()\n",
    "\n",
    "    except:\n",
    "        print(\"Transcript not found\")\n",
    "        no_transcripts[i[0]] = i[1]\n",
    "no_transcripts"
   ]
  },
  {
   "cell_type": "code",
   "execution_count": 7,
   "metadata": {},
   "outputs": [
    {
     "data": {
      "text/plain": [
       "{'AMA #15: Fluoride Benefits/Risks & Vagus Nerve Stimulation': 'https://www.youtube.com/watch?v=j2sMqSDLd4k',\n",
       " 'Tim Ferriss: How to Learn Better & Create Your Best Future | Huberman Lab Podcast': 'https://www.youtube.com/watch?v=doupx8SAs5Y',\n",
       " 'Dr. Peter Attia: Improve Vitality, Emotional & Physical Health & Lifespan | Huberman Lab Podcast': 'https://www.youtube.com/watch?v=ufsIA5NARIo',\n",
       " 'Using Cortisol & Adrenaline to Boost Our Energy & Immune System Function': 'https://www.youtube.com/watch?v=JPX8g8ibKFc',\n",
       " 'How to Control Your Metabolism by Thyroid & Growth Hormone': 'https://www.youtube.com/watch?v=x7qbJeRxWGw',\n",
       " 'How Our Hormones Control Our Hunger, Eating & Satiety': 'https://www.youtube.com/watch?v=17O5mgXZ9ZU',\n",
       " 'The Science of How to Optimize Testosterone & Estrogen': 'https://www.youtube.com/watch?v=qJXKhu5UZwk',\n",
       " 'Biological Influences On Sex, Sex Differences & Preferences': 'https://www.youtube.com/watch?v=J7SrAEacyf8',\n",
       " 'The Science of Emotions & Relationships': 'https://www.youtube.com/watch?v=hcuMLQVAgEg',\n",
       " 'How to Increase Motivation & Drive': 'https://www.youtube.com/watch?v=vA50EK70whE',\n",
       " 'How Foods and Nutrients Control Our Moods': 'https://www.youtube.com/watch?v=XfURDjegrAw',\n",
       " 'Control Pain & Heal Faster with Your Brain': 'https://www.youtube.com/watch?v=mcPSRWUYCv0',\n",
       " 'Optimize Your Learning & Creativity With Science-Based Tools': 'https://www.youtube.com/watch?v=uuP-1ioh4LY',\n",
       " 'Using Failures, Movement & Balance to Learn Faster': 'https://www.youtube.com/watch?v=hx3U64IXFOY',\n",
       " 'How to Focus to Change Your Brain': 'https://www.youtube.com/watch?v=LG53Vxum0as',\n",
       " 'Understanding and Using Dreams to Learn and to Forget': 'https://www.youtube.com/watch?v=FFwA0QFmpQ4',\n",
       " 'How to Defeat Jetlag, Shift Work & Sleeplessness': 'https://www.youtube.com/watch?v=NAATB55oxeQ',\n",
       " 'How Your Nervous System Works & Changes': 'https://www.youtube.com/watch?v=H-XfCl-HpRM',\n",
       " 'Welcome to the Huberman Lab Podcast': 'https://www.youtube.com/watch?v=4b6bwcWK6GE'}"
      ]
     },
     "execution_count": 7,
     "metadata": {},
     "output_type": "execute_result"
    }
   ],
   "source": [
    "for i in no_transcripts.items():\n",
    "    no_transcripts[i[0]] = 'https://www.youtube.com/watch?v=' + i[1]\n",
    "no_transcripts"
   ]
  },
  {
   "cell_type": "code",
   "execution_count": 12,
   "metadata": {},
   "outputs": [],
   "source": [
    "for url in no_transcripts.values():\n",
    "    yt = YouTube(url)\n",
    "    stream = yt.streams.get_by_itag(139)    \n",
    "    stream.download(output_path='podcast/')"
   ]
  },
  {
   "cell_type": "code",
   "execution_count": 1,
   "metadata": {},
   "outputs": [
    {
     "name": "stdout",
     "output_type": "stream",
     "text": [
      "How to Increase Motivation & Drive already exists\n",
      "How Foods and Nutrients Control Our Moods already exists\n",
      "Control Pain & Heal Faster with Your Brain already exists\n",
      "Tim Ferriss How to Learn Better & Create Your Best Future  Huberman Lab Podcast already exists\n",
      "How to Control Your Metabolism by Thyroid & Growth Hormone already exists\n",
      "The Science of How to Optimize Testosterone & Estrogen already exists\n",
      "How to Defeat Jetlag Shift Work & Sleeplessness already exists\n",
      "AMA 15 Fluoride BenefitsRisks & Vagus Nerve Stimulation already exists\n",
      "Welcome to the Huberman Lab Podcast already exists\n",
      "Biological Influences On Sex Sex Differences & Preferences already exists\n",
      "How Our Hormones Control Our Hunger Eating & Satiety already exists\n",
      "How Your Nervous System Works & Changes already exists\n",
      "Understanding and Using Dreams to Learn and to Forget already exists\n",
      "How to Focus to Change Your Brain already exists\n",
      "Using Failures Movement & Balance to Learn Faster already exists\n",
      "Using Cortisol & Adrenaline to Boost Our Energy & Immune System Function already exists\n",
      "Optimize Your Learning & Creativity With Science-Based Tools already exists\n",
      "Dr Peter Attia Improve Vitality Emotional & Physical Health & Lifespan  Huberman Lab Podcast\n",
      "./podcast/Dr Peter Attia Improve Vitality Emotional & Physical Health & Lifespan  Huberman Lab Podcast.mp4\n",
      "Finished transcribing Dr Peter Attia Improve Vitality Emotional & Physical Health & Lifespan  Huberman Lab Podcast.mp4\n",
      "****************************************************\n",
      "The Science of Emotions & Relationships\n",
      "./podcast/The Science of Emotions & Relationships.mp4\n",
      "Finished transcribing The Science of Emotions & Relationships.mp4\n",
      "****************************************************\n"
     ]
    }
   ],
   "source": [
    "import whisper\n",
    "import os\n",
    "\n",
    "model = whisper.load_model(\"base\")\n",
    "directory_path = \"./podcast/\"\n",
    "\n",
    "# result = model.transcribe(\"./podcast/How to Increase Motivation & Drive.mp4\")\n",
    "# result[\"text\"]\n",
    "\n",
    "for filename in os.listdir(directory_path):\n",
    "    transcript_filename = filename.split(\".\")[0]\n",
    "    if not os.path.exists(f\"./data/{transcript_filename}.txt\"):\n",
    "        print(transcript_filename)\n",
    "        file_path = os.path.join(directory_path, filename)\n",
    "        print(file_path)\n",
    "        result = model.transcribe(file_path)\n",
    "        print(\"Finished transcribing \" + filename)\n",
    "        with open(f\"./data/{transcript_filename}.txt\", 'w') as file:\n",
    "            file.write(result[\"text\"])\n",
    "            file.close()\n",
    "        print(\"****************************************************\")\n",
    "    else:\n",
    "        print(f\"{transcript_filename} already exists\")"
   ]
  },
  {
   "cell_type": "code",
   "execution_count": null,
   "metadata": {},
   "outputs": [],
   "source": []
  }
 ],
 "metadata": {
  "kernelspec": {
   "display_name": "ask_huberman",
   "language": "python",
   "name": "python3"
  },
  "language_info": {
   "codemirror_mode": {
    "name": "ipython",
    "version": 3
   },
   "file_extension": ".py",
   "mimetype": "text/x-python",
   "name": "python",
   "nbconvert_exporter": "python",
   "pygments_lexer": "ipython3",
   "version": "3.1.undefined"
  }
 },
 "nbformat": 4,
 "nbformat_minor": 2
}
